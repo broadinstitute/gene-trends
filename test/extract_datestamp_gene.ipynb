{
 "cells": [
  {
   "cell_type": "code",
   "execution_count": 1,
   "metadata": {},
   "outputs": [],
   "source": [
    "import os\n",
    "import pandas as pd\n",
    "import numpy as np\n",
    "import glob"
   ]
  },
  {
   "cell_type": "code",
   "execution_count": 2,
   "metadata": {},
   "outputs": [],
   "source": [
    "gene2info_file = '/Users/sahilnalawade/Desktop/Sahil/Projects/hackathon/Gene-Trends/pubmed_citations/data/homo-sapiens/gene_info'\n",
    "gene2pubmed_file = '/Users/sahilnalawade/Desktop/Sahil/Projects/hackathon/Gene-Trends/pubmed_citations/data/homo-sapiens/gene2pubmed'"
   ]
  },
  {
   "cell_type": "code",
   "execution_count": 3,
   "metadata": {},
   "outputs": [],
   "source": [
    "df_gene2pubmed = pd.read_csv(gene2pubmed_file, delimiter = '\\t')\n",
    "df_gene2pubmed.columns = ['organisim_id', 'gene_id', 'pubmed_id']"
   ]
  },
  {
   "cell_type": "code",
   "execution_count": 4,
   "metadata": {},
   "outputs": [
    {
     "name": "stdout",
     "output_type": "stream",
     "text": [
      "   organisim_id  gene_id  pubmed_id\n",
      "0          9606        1    3458201\n",
      "1          9606        1    3610142\n",
      "2          9606        1    8889549\n",
      "3          9606        1   12477932\n",
      "4          9606        1   14702039\n",
      "(1942463, 3)\n",
      "128851\n"
     ]
    }
   ],
   "source": [
    "print(df_gene2pubmed.head())\n",
    "print(df_gene2pubmed.shape)\n",
    "print(len(df_gene2pubmed['gene_id'].unique()))"
   ]
  },
  {
   "cell_type": "code",
   "execution_count": 5,
   "metadata": {},
   "outputs": [],
   "source": [
    "temp = df_gene2pubmed[['gene_id', 'pubmed_id']]\n",
    "unique_gene_id = temp.gene_id.unique()\n",
    "df_grp = temp.groupby(by='gene_id', as_index=False).agg(list)"
   ]
  },
  {
   "cell_type": "code",
   "execution_count": 6,
   "metadata": {},
   "outputs": [
    {
     "name": "stdout",
     "output_type": "stream",
     "text": [
      "   gene_id                                          pubmed_id\n",
      "0        1  [3458201, 3610142, 8889549, 12477932, 14702039...\n",
      "1        2  [59727, 80233, 89758, 1281457, 1370808, 137423...\n",
      "2        3  [2478422, 16344560, 19105203, 20617511, 213384...\n",
      "3        9  [1559981, 1676262, 1968463, 2340091, 7627961, ...\n",
      "4       10  [1306121, 1381364, 1441598, 1559981, 1676262, ...\n",
      "(128851, 2)\n"
     ]
    }
   ],
   "source": [
    "print(df_grp.head())\n",
    "print(df_grp.shape)"
   ]
  },
  {
   "cell_type": "code",
   "execution_count": 7,
   "metadata": {},
   "outputs": [],
   "source": [
    "df_gene_info = pd.read_csv(gene2info_file, delimiter = '\\t')\n",
    "df_gene_info = df_gene_info.iloc[:, :3]\n",
    "df_gene_info.columns = ['organisim_id', 'gene_id', 'gene_names']\n"
   ]
  },
  {
   "cell_type": "code",
   "execution_count": 8,
   "metadata": {},
   "outputs": [
    {
     "data": {
      "text/html": [
       "<div>\n",
       "<style scoped>\n",
       "    .dataframe tbody tr th:only-of-type {\n",
       "        vertical-align: middle;\n",
       "    }\n",
       "\n",
       "    .dataframe tbody tr th {\n",
       "        vertical-align: top;\n",
       "    }\n",
       "\n",
       "    .dataframe thead th {\n",
       "        text-align: right;\n",
       "    }\n",
       "</style>\n",
       "<table border=\"1\" class=\"dataframe\">\n",
       "  <thead>\n",
       "    <tr style=\"text-align: right;\">\n",
       "      <th></th>\n",
       "      <th>organisim_id</th>\n",
       "      <th>gene_id</th>\n",
       "      <th>gene_names</th>\n",
       "    </tr>\n",
       "  </thead>\n",
       "  <tbody>\n",
       "    <tr>\n",
       "      <th>0</th>\n",
       "      <td>9606</td>\n",
       "      <td>2</td>\n",
       "      <td>A2M</td>\n",
       "    </tr>\n",
       "    <tr>\n",
       "      <th>1</th>\n",
       "      <td>9606</td>\n",
       "      <td>3</td>\n",
       "      <td>A2MP1</td>\n",
       "    </tr>\n",
       "    <tr>\n",
       "      <th>2</th>\n",
       "      <td>9606</td>\n",
       "      <td>9</td>\n",
       "      <td>NAT1</td>\n",
       "    </tr>\n",
       "    <tr>\n",
       "      <th>3</th>\n",
       "      <td>9606</td>\n",
       "      <td>10</td>\n",
       "      <td>NAT2</td>\n",
       "    </tr>\n",
       "    <tr>\n",
       "      <th>4</th>\n",
       "      <td>9606</td>\n",
       "      <td>11</td>\n",
       "      <td>NATP</td>\n",
       "    </tr>\n",
       "  </tbody>\n",
       "</table>\n",
       "</div>"
      ],
      "text/plain": [
       "   organisim_id  gene_id gene_names\n",
       "0          9606        2        A2M\n",
       "1          9606        3      A2MP1\n",
       "2          9606        9       NAT1\n",
       "3          9606       10       NAT2\n",
       "4          9606       11       NATP"
      ]
     },
     "execution_count": 8,
     "metadata": {},
     "output_type": "execute_result"
    }
   ],
   "source": [
    "# df_gene_info.columns = ['organisim_id', 'gene_id', 'pubmed_id']\n",
    "df_gene_info.head()\n",
    "# print(df_gene_info)"
   ]
  },
  {
   "cell_type": "code",
   "execution_count": 9,
   "metadata": {},
   "outputs": [
    {
     "name": "stdout",
     "output_type": "stream",
     "text": [
      "(128850, 4)\n"
     ]
    },
    {
     "data": {
      "text/html": [
       "<div>\n",
       "<style scoped>\n",
       "    .dataframe tbody tr th:only-of-type {\n",
       "        vertical-align: middle;\n",
       "    }\n",
       "\n",
       "    .dataframe tbody tr th {\n",
       "        vertical-align: top;\n",
       "    }\n",
       "\n",
       "    .dataframe thead th {\n",
       "        text-align: right;\n",
       "    }\n",
       "</style>\n",
       "<table border=\"1\" class=\"dataframe\">\n",
       "  <thead>\n",
       "    <tr style=\"text-align: right;\">\n",
       "      <th></th>\n",
       "      <th>organisim_id</th>\n",
       "      <th>gene_id</th>\n",
       "      <th>gene_names</th>\n",
       "      <th>pubmed_id</th>\n",
       "    </tr>\n",
       "  </thead>\n",
       "  <tbody>\n",
       "    <tr>\n",
       "      <th>0</th>\n",
       "      <td>9606</td>\n",
       "      <td>2</td>\n",
       "      <td>A2M</td>\n",
       "      <td>[59727, 80233, 89758, 1281457, 1370808, 137423...</td>\n",
       "    </tr>\n",
       "    <tr>\n",
       "      <th>1</th>\n",
       "      <td>9606</td>\n",
       "      <td>3</td>\n",
       "      <td>A2MP1</td>\n",
       "      <td>[2478422, 16344560, 19105203, 20617511, 213384...</td>\n",
       "    </tr>\n",
       "    <tr>\n",
       "      <th>2</th>\n",
       "      <td>9606</td>\n",
       "      <td>9</td>\n",
       "      <td>NAT1</td>\n",
       "      <td>[1559981, 1676262, 1968463, 2340091, 7627961, ...</td>\n",
       "    </tr>\n",
       "    <tr>\n",
       "      <th>3</th>\n",
       "      <td>9606</td>\n",
       "      <td>10</td>\n",
       "      <td>NAT2</td>\n",
       "      <td>[1306121, 1381364, 1441598, 1559981, 1676262, ...</td>\n",
       "    </tr>\n",
       "    <tr>\n",
       "      <th>4</th>\n",
       "      <td>9606</td>\n",
       "      <td>11</td>\n",
       "      <td>NATP</td>\n",
       "      <td>[2340091, 9284941, 16416399, 21995608, 25432241]</td>\n",
       "    </tr>\n",
       "  </tbody>\n",
       "</table>\n",
       "</div>"
      ],
      "text/plain": [
       "   organisim_id  gene_id gene_names  \\\n",
       "0          9606        2        A2M   \n",
       "1          9606        3      A2MP1   \n",
       "2          9606        9       NAT1   \n",
       "3          9606       10       NAT2   \n",
       "4          9606       11       NATP   \n",
       "\n",
       "                                           pubmed_id  \n",
       "0  [59727, 80233, 89758, 1281457, 1370808, 137423...  \n",
       "1  [2478422, 16344560, 19105203, 20617511, 213384...  \n",
       "2  [1559981, 1676262, 1968463, 2340091, 7627961, ...  \n",
       "3  [1306121, 1381364, 1441598, 1559981, 1676262, ...  \n",
       "4   [2340091, 9284941, 16416399, 21995608, 25432241]  "
      ]
     },
     "execution_count": 9,
     "metadata": {},
     "output_type": "execute_result"
    }
   ],
   "source": [
    "merged_df = pd.merge(df_gene_info, df_grp, on=\"gene_id\")\n",
    "print(merged_df.shape)\n",
    "merged_df.head()"
   ]
  },
  {
   "cell_type": "code",
   "execution_count": 10,
   "metadata": {},
   "outputs": [
    {
     "data": {
      "text/html": [
       "<div>\n",
       "<style scoped>\n",
       "    .dataframe tbody tr th:only-of-type {\n",
       "        vertical-align: middle;\n",
       "    }\n",
       "\n",
       "    .dataframe tbody tr th {\n",
       "        vertical-align: top;\n",
       "    }\n",
       "\n",
       "    .dataframe thead th {\n",
       "        text-align: right;\n",
       "    }\n",
       "</style>\n",
       "<table border=\"1\" class=\"dataframe\">\n",
       "  <thead>\n",
       "    <tr style=\"text-align: right;\">\n",
       "      <th></th>\n",
       "      <th>organisim_id</th>\n",
       "      <th>gene_id</th>\n",
       "      <th>gene_names</th>\n",
       "      <th>pubmed_id</th>\n",
       "    </tr>\n",
       "  </thead>\n",
       "  <tbody>\n",
       "    <tr>\n",
       "      <th>5600</th>\n",
       "      <td>9606</td>\n",
       "      <td>7157</td>\n",
       "      <td>TP53</td>\n",
       "      <td>[1088347, 1303181, 1321290, 1327751, 1349102, ...</td>\n",
       "    </tr>\n",
       "  </tbody>\n",
       "</table>\n",
       "</div>"
      ],
      "text/plain": [
       "      organisim_id  gene_id gene_names  \\\n",
       "5600          9606     7157       TP53   \n",
       "\n",
       "                                              pubmed_id  \n",
       "5600  [1088347, 1303181, 1321290, 1327751, 1349102, ...  "
      ]
     },
     "execution_count": 10,
     "metadata": {},
     "output_type": "execute_result"
    }
   ],
   "source": [
    "merged_df[merged_df['gene_names'] == 'TP53']"
   ]
  },
  {
   "cell_type": "code",
   "execution_count": 11,
   "metadata": {},
   "outputs": [
    {
     "name": "stdout",
     "output_type": "stream",
     "text": [
      "180\n"
     ]
    }
   ],
   "source": [
    "timeframe = glob.glob('/Users/sahilnalawade/Desktop/Sahil/Projects/hackathon/Gene-Trends/pubmed_citations/data/tmp/timeframe/*.tsv')\n",
    "print(len(timeframe))"
   ]
  },
  {
   "cell_type": "code",
   "execution_count": 13,
   "metadata": {},
   "outputs": [],
   "source": [
    "pubmed_cite = '/Users/sahilnalawade/Desktop/Sahil/Projects/hackathon/Gene-Trends/data/homo-sapiens-pubmed-citations.tsv'\n",
    "\n",
    "tsv_data_pubmed = pd.read_csv(pubmed_cite, sep='\\t')\n",
    "gene_list = list(tsv_data_pubmed['# gene'][:20])\n",
    "df_gene_list = pd.DataFrame(gene_list, columns=['gene_names'])"
   ]
  },
  {
   "cell_type": "code",
   "execution_count": 14,
   "metadata": {},
   "outputs": [],
   "source": [
    "df_gene_list\n",
    "df_gene_info\n",
    "\n",
    "df_merge_list_info = df_gene_list.merge(df_gene_info, how='inner')\n",
    "df_merge_list_info.head()\n",
    "gene_id_list = list(df_merge_list_info['gene_id'])"
   ]
  },
  {
   "cell_type": "code",
   "execution_count": 15,
   "metadata": {},
   "outputs": [],
   "source": [
    "gene_files = '/Users/sahilnalawade/Desktop/Sahil/Projects/hackathon/Gene-Trends/gene_files'"
   ]
  },
  {
   "cell_type": "code",
   "execution_count": 16,
   "metadata": {},
   "outputs": [
    {
     "name": "stdout",
     "output_type": "stream",
     "text": [
      "1 290 348 APOE\n",
      "2 506 627 BDNF\n",
      "3 1545 1956 EGFR\n",
      "4 1660 2099 ESR1\n",
      "5 1896 2475 MTOR\n",
      "6 2406 3091 HIF1A\n",
      "7 2773 3569 IL6\n",
      "8 2779 3576 CXCL8\n",
      "9 3643 4780 NFE2L2\n",
      "10 5131 6622 SNCA\n",
      "11 5266 6774 STAT3\n",
      "12 5493 7040 TGFB1\n",
      "13 5572 7124 TNF\n",
      "14 5600 7157 TP53\n",
      "15 5818 7422 VEGFA\n",
      "16 7976 10413 YAP1\n",
      "17 10966 29126 CD274\n",
      "18 13030 56339 METTL3\n",
      "19 13701 59272 ACE2\n",
      "20 16728 114548 NLRP3\n"
     ]
    }
   ],
   "source": [
    "c1 = 1\n",
    "for idx, row in merged_df.iterrows():\n",
    "    gene_id = row['gene_id']\n",
    "    gene_name = row['gene_names']\n",
    "    gene_pubmed_id = row['pubmed_id']\n",
    "    # if gene_id in gene_id_list:\n",
    "    if gene_id == 4609:\n",
    "        print(c1, idx, gene_id, gene_name)\n",
    "        c1 +=1\n",
    "        date_all = []\n",
    "        cite_all =[]\n",
    "        for idx1 in range(len(timeframe)):\n",
    "            tsv_data = pd.read_csv(timeframe[idx1], sep='\\t')\n",
    "            tsv_data.columns = ['date', 'pubmed_id']\n",
    "            res = sum(ele in list(gene_pubmed_id)  for ele in list(tsv_data['pubmed_id']))\n",
    "            date_all.append(tsv_data['date'][0])\n",
    "            cite_all.append(res)\n",
    "        df_date = pd.DataFrame({'date': np.array(list(date_all)), 'cite': np.array(list(cite_all)),})\n",
    "        df_date.to_csv(os.path.join(gene_files, str(str(gene_name) + '.tsv')), sep=\"\\t\")"
   ]
  }
 ],
 "metadata": {
  "kernelspec": {
   "display_name": "SN",
   "language": "python",
   "name": "python3"
  },
  "language_info": {
   "codemirror_mode": {
    "name": "ipython",
    "version": 3
   },
   "file_extension": ".py",
   "mimetype": "text/x-python",
   "name": "python",
   "nbconvert_exporter": "python",
   "pygments_lexer": "ipython3",
   "version": "3.9.7"
  },
  "orig_nbformat": 4
 },
 "nbformat": 4,
 "nbformat_minor": 2
}
